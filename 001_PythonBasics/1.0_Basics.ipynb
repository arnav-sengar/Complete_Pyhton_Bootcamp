{
 "cells": [
  {
   "cell_type": "markdown",
   "id": "b5b32ab4",
   "metadata": {},
   "source": [
    "## Syntax and Semantics in Python\n",
    "### Outline\n",
    "1. Single line comments and Multiline comments\n",
    "2. Definition of Syntax and Semantics\n",
    "3. Basic syntax rules for python\n",
    "4. Basic semantics rules for python\n",
    "5. Common syntax errors and how to find them\n",
    "6. Practical code examples"
   ]
  },
  {
   "cell_type": "markdown",
   "id": "b2cd75f3",
   "metadata": {},
   "source": [
    "##### Syntax refers to the set of rules that defines the combination of symbols that are considered to be correctly structured programs in a language. In simpler terms, syntax is about the correct arrangement of words and  symbols in a code.\n",
    "\n",
    "##### Semantic refer to the meaning or interpretation of the symbols, characters and commands in a language. It is about what the code is supposed to do when it runs."
   ]
  },
  {
   "cell_type": "markdown",
   "id": "a1ba2eb4",
   "metadata": {},
   "source": [
    "### Basic syntax rules in Python"
   ]
  },
  {
   "cell_type": "code",
   "execution_count": null,
   "id": "d1a10a47",
   "metadata": {},
   "outputs": [],
   "source": [
    "## case sensitivity : Python is case sensitive\n",
    "\n",
    "name = \"John\"\n",
    "Name = \"Jane\"\n",
    "print(name)\n",
    "print(Name)"
   ]
  },
  {
   "cell_type": "code",
   "execution_count": null,
   "id": "a2fc936f",
   "metadata": {},
   "outputs": [],
   "source": [
    "## indentation\n",
    "## python uses indentation to define blocks of code. Consistent use of spaces(commonly 4) or a tab is required.\n",
    "\n",
    "age = 32\n",
    "if age > 30:\n",
    "    print(\"You are an adult\")\n",
    "print(age)"
   ]
  },
  {
   "cell_type": "code",
   "execution_count": null,
   "id": "821c9614",
   "metadata": {},
   "outputs": [],
   "source": [
    "## This is a single line comment\n",
    "print (\"Hello World\")"
   ]
  },
  {
   "cell_type": "code",
   "execution_count": null,
   "id": "95018a60",
   "metadata": {},
   "outputs": [],
   "source": [
    "## Line continuation\n",
    "total = 1+2+3+4+5+\\\n",
    "6+7+8+9+10\n",
    "print(total)"
   ]
  },
  {
   "cell_type": "code",
   "execution_count": null,
   "id": "7bdd9eb2",
   "metadata": {},
   "outputs": [],
   "source": [
    "## Multiple Statements in a single line\n",
    "x= 5;y= 10;z= 15\n",
    "print(z)"
   ]
  },
  {
   "cell_type": "code",
   "execution_count": null,
   "id": "1f032d06",
   "metadata": {},
   "outputs": [],
   "source": [
    "##Understand  Semnatics In Python\n",
    "# variable assignment\n",
    "age=32 ##age is an integer\n",
    "name=\"Krish\" ##name is a string"
   ]
  },
  {
   "cell_type": "code",
   "execution_count": null,
   "id": "a052f7a4",
   "metadata": {},
   "outputs": [],
   "source": [
    "type(age)"
   ]
  },
  {
   "cell_type": "code",
   "execution_count": null,
   "id": "caf6ef90",
   "metadata": {},
   "outputs": [],
   "source": [
    "type(name)"
   ]
  },
  {
   "cell_type": "code",
   "execution_count": null,
   "id": "dd297884",
   "metadata": {},
   "outputs": [],
   "source": [
    "## Type Inference\n",
    "variable=10\n",
    "print(type(variable))\n",
    "variable=\"Krish\"\n",
    "print(type(variable))"
   ]
  },
  {
   "cell_type": "code",
   "execution_count": null,
   "id": "7318603c",
   "metadata": {},
   "outputs": [],
   "source": [
    "## Name Error\n",
    "a=b"
   ]
  },
  {
   "cell_type": "code",
   "execution_count": null,
   "id": "a54018d3",
   "metadata": {},
   "outputs": [],
   "source": [
    "## Code exmaples of indentation\n",
    "if True:\n",
    "    print(\"Correct Indentation\")\n",
    "    if False:\n",
    "        print(\"This ont print\")\n",
    "    print(\"This will print\")\n",
    "print(\"Outside the if block\")"
   ]
  },
  {
   "cell_type": "markdown",
   "id": "dc043c6e",
   "metadata": {},
   "source": [
    "### Conclusion:\n",
    "Understanding the syntax and semantics of Python is crucial for writing correct and meaningful programs. Syntax ensures the code is properly structured, while semantics ensures the code behaves as expected. Mastering these concepts will help in writing efficient and error-free Python code."
   ]
  }
 ],
 "metadata": {
  "kernelspec": {
   "display_name": "base",
   "language": "python",
   "name": "python3"
  },
  "language_info": {
   "codemirror_mode": {
    "name": "ipython",
    "version": 3
   },
   "file_extension": ".py",
   "mimetype": "text/x-python",
   "name": "python",
   "nbconvert_exporter": "python",
   "pygments_lexer": "ipython3",
   "version": "3.13.5"
  }
 },
 "nbformat": 4,
 "nbformat_minor": 5
}
